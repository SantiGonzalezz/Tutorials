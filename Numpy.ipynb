{
 "cells": [
  {
   "cell_type": "markdown",
   "metadata": {},
   "source": [
    "<a id='index'></a>"
   ]
  },
  {
   "cell_type": "markdown",
   "metadata": {},
   "source": [
    "# Numpy Tutorial\n",
    "\n",
    "### Autor: Santiago González Montealegre\n",
    "\n",
    "- Como principal característica de Numpy es su rapidez.\n",
    "- Solo admite arrays donde todos los objetos tengan el mismo data type. (e.g. solo `int`, solo `float`, solo `str`, etc.)."
   ]
  },
  {
   "cell_type": "code",
   "execution_count": 1,
   "metadata": {},
   "outputs": [],
   "source": [
    "import numpy as np"
   ]
  },
  {
   "cell_type": "markdown",
   "metadata": {},
   "source": [
    "## Índice\n",
    "\n",
    "1. [Array](#np-array)\n",
    "1. [Data type](#np-dtype)\n",
    "1. [Dimensions](#np-dims)\n",
    "1. [Mismo tamaño para dimensiones](#np-same-size)\n",
    "1. [Shape](#np-shape)\n",
    "1. [Casos extraños](#np-curiosities)\n",
    "1. [Size](#np-size)\n",
    "1. [Bytes](#np-bytes)\n",
    "1. [Arange](#np-arange)\n",
    "1. [Linspace](#np-linspace)\n",
    "1. [Random permutation](#np-random-permutation)\n",
    "1. [Random randint](#np-random-randint)\n",
    "1. [Random rand](#np-random-rand)\n",
    "1. [Random randn](#np-random-randn)\n",
    "1. [Reshape](#np-reshape)\n",
    "1. [Zeros and Ones](#np-zeros)\n",
    "1. [Full](#np-full)\n",
    "1. [Argwhere](#np-argwhere)\n",
    "1. [Slicing](#np-slicing)\n",
    "1. [Linear algebra](#np-lin-alg)\n",
    "1. [Sort](#np-sort)\n",
    "1. [Condiciones](#np-conditions)\n",
    "1. [Absurd efficiency](#np-efficiency)\n",
    "1. [Matrix multiplication](#np-ctm)\n"
   ]
  },
  {
   "cell_type": "markdown",
   "metadata": {},
   "source": [
    "<a id='np-array'></a>"
   ]
  },
  {
   "cell_type": "markdown",
   "metadata": {},
   "source": [
    "[Índice](#index)\n",
    "\n",
    "### Array\n",
    "\n",
    "Creamos un array con la función `np.array()`, y le pasamos como argumento la lista con la que trabajaremos.\n",
    "También es posible especificarle el _data type_ por medio del parámetro `dtype=''` el cual puede tomar valores como `'i'`si deseamos que solo maneje int's el array, o `'f'` si deseamos trabajar con float's."
   ]
  },
  {
   "cell_type": "code",
   "execution_count": 2,
   "metadata": {},
   "outputs": [
    {
     "name": "stdout",
     "output_type": "stream",
     "text": [
      "[1 2 3 4 5] <class 'numpy.ndarray'>\n",
      "[1. 6. 3. 4. 9.] <class 'numpy.ndarray'>\n"
     ]
    }
   ],
   "source": [
    "a = np.array([1.8, 2, 3, 4, 5], dtype='i')\n",
    "b = np.array([1, 6, 3, 4, 9], dtype='f')\n",
    "print(a, type(a))\n",
    "print(b, type(b))"
   ]
  },
  {
   "cell_type": "markdown",
   "metadata": {},
   "source": [
    "<a id='np-dtype'></a>"
   ]
  },
  {
   "cell_type": "markdown",
   "metadata": {},
   "source": [
    "[Índice](#index)\n",
    "\n",
    "### Data type\n",
    "Podemos comprobar el _data type_ que está usando el array por medio de `a.dtype`."
   ]
  },
  {
   "cell_type": "code",
   "execution_count": 3,
   "metadata": {},
   "outputs": [
    {
     "data": {
      "text/plain": [
       "dtype('int32')"
      ]
     },
     "execution_count": 3,
     "metadata": {},
     "output_type": "execute_result"
    }
   ],
   "source": [
    "a.dtype"
   ]
  },
  {
   "cell_type": "code",
   "execution_count": 4,
   "metadata": {},
   "outputs": [
    {
     "data": {
      "text/plain": [
       "dtype('float32')"
      ]
     },
     "execution_count": 4,
     "metadata": {},
     "output_type": "execute_result"
    }
   ],
   "source": [
    "b.dtype"
   ]
  },
  {
   "cell_type": "markdown",
   "metadata": {},
   "source": [
    "<a id='np-dims'></a>"
   ]
  },
  {
   "cell_type": "markdown",
   "metadata": {},
   "source": [
    "[Índice](#index)\n",
    "\n",
    "### Dimensiones\n",
    "Numpy permite trabajar arrays en varias dimensiones. Para esto puede ser útil la función `a.ndim` que permite ver el número de dimensiones que tiene el array."
   ]
  },
  {
   "cell_type": "code",
   "execution_count": 5,
   "metadata": {},
   "outputs": [
    {
     "name": "stdout",
     "output_type": "stream",
     "text": [
      "2\n"
     ]
    }
   ],
   "source": [
    "a = np.array([[1, 2, 3], [4, 5, 6]])\n",
    "print(a.ndim)"
   ]
  },
  {
   "cell_type": "code",
   "execution_count": 6,
   "metadata": {},
   "outputs": [
    {
     "name": "stdout",
     "output_type": "stream",
     "text": [
      "3\n"
     ]
    }
   ],
   "source": [
    "b = np.array([[[1, 2, 3], [4, 5, 6]], [[1, 2, 3], [4, 5, 6]]])\n",
    "print(b.ndim)"
   ]
  },
  {
   "cell_type": "code",
   "execution_count": 7,
   "metadata": {},
   "outputs": [
    {
     "name": "stdout",
     "output_type": "stream",
     "text": [
      "[[1 2 3]\n",
      " [4 5 6]] \n",
      " 2\n"
     ]
    }
   ],
   "source": [
    "print(b[1], \n",
    "      f'\\n {b[1].ndim}')"
   ]
  },
  {
   "cell_type": "markdown",
   "metadata": {},
   "source": [
    "<a id='np-same-size'></a>"
   ]
  },
  {
   "cell_type": "markdown",
   "metadata": {},
   "source": [
    "[Índice](#index)\n",
    "\n",
    "### Varias dimensiones, igual tamaño\n",
    "Para trabajar con Arrays de múltiples dimensiones es necesario que todos los elementos en cada dimensión tengan el mismo tamaño.\n",
    "De lo contrario, habrán problemas como los que se observan:"
   ]
  },
  {
   "cell_type": "code",
   "execution_count": 8,
   "metadata": {},
   "outputs": [
    {
     "data": {
      "text/plain": [
       "1"
      ]
     },
     "execution_count": 8,
     "metadata": {},
     "output_type": "execute_result"
    }
   ],
   "source": [
    "B = np.array([[1, 2, 3], [2, 4, 5, 9], [1, 2, 4]])\n",
    "B.ndim"
   ]
  },
  {
   "cell_type": "code",
   "execution_count": 9,
   "metadata": {},
   "outputs": [
    {
     "data": {
      "text/plain": [
       "2"
      ]
     },
     "execution_count": 9,
     "metadata": {},
     "output_type": "execute_result"
    }
   ],
   "source": [
    "B = np.array([[1, 2, 3], [2, 4, 5], [1, 2, 4]])\n",
    "B.ndim"
   ]
  },
  {
   "cell_type": "markdown",
   "metadata": {},
   "source": [
    "<a id='np-shape'></a>"
   ]
  },
  {
   "cell_type": "markdown",
   "metadata": {},
   "source": [
    "[Índice](#index)\n",
    "\n",
    "### Shape\n",
    "Con la función `C.shape` podemos saber el número de elementos que existen en cada Array. Si lo hacemos para todo el array grande, obtendremos una tupla con el número de elementos en cada una de las dimensiones."
   ]
  },
  {
   "cell_type": "code",
   "execution_count": 10,
   "metadata": {},
   "outputs": [
    {
     "name": "stdout",
     "output_type": "stream",
     "text": [
      "[[[ 1  2  3]\n",
      "  [ 4  5  6]]\n",
      "\n",
      " [[-1 -2 -3]\n",
      "  [-4 -5 -6]]\n",
      "\n",
      " [[ 1  1  1]\n",
      "  [ 0  0  0]]\n",
      "\n",
      " [[ 1  1  1]\n",
      "  [ 0  0  0]]] 3\n"
     ]
    }
   ],
   "source": [
    "C = np.array([[[1, 2, 3], [4, 5, 6]], [[-1, -2, -3], [-4, -5, -6]], [[1, 1, 1], [0, 0, 0]], [[1, 1, 1], [0, 0, 0]]])\n",
    "print(C, C.ndim)"
   ]
  },
  {
   "cell_type": "code",
   "execution_count": 11,
   "metadata": {},
   "outputs": [
    {
     "data": {
      "text/plain": [
       "(4, 2, 3)"
      ]
     },
     "execution_count": 11,
     "metadata": {},
     "output_type": "execute_result"
    }
   ],
   "source": [
    "C.shape"
   ]
  },
  {
   "cell_type": "code",
   "execution_count": 12,
   "metadata": {},
   "outputs": [
    {
     "name": "stdout",
     "output_type": "stream",
     "text": [
      "4 2 3\n"
     ]
    }
   ],
   "source": [
    "# Number of 2d Arrays, \n",
    "# Number of 1d arrays in every 2d array, \n",
    "# Number of elements in each 1d array\n",
    "print(C.shape[0], C.shape[1], C.shape[2])"
   ]
  },
  {
   "cell_type": "markdown",
   "metadata": {},
   "source": [
    "<a id='np-curiosities'></a>"
   ]
  },
  {
   "cell_type": "markdown",
   "metadata": {},
   "source": [
    "[Índice](#index)\n",
    "\n",
    "### Casos extraños\n",
    "\n",
    "Podemos crear un array de un solo elemento\n",
    "Por ejemplo:"
   ]
  },
  {
   "cell_type": "code",
   "execution_count": 13,
   "metadata": {},
   "outputs": [
    {
     "data": {
      "text/plain": [
       "1"
      ]
     },
     "execution_count": 13,
     "metadata": {},
     "output_type": "execute_result"
    }
   ],
   "source": [
    "A = np.array([2])\n",
    "A.ndim"
   ]
  },
  {
   "cell_type": "markdown",
   "metadata": {},
   "source": [
    "El cual tendrá obviamente una dimensión de 1. Pero ahora que pasaría si no encerramos el elemento entre `[]`."
   ]
  },
  {
   "cell_type": "code",
   "execution_count": 14,
   "metadata": {},
   "outputs": [
    {
     "data": {
      "text/plain": [
       "0"
      ]
     },
     "execution_count": 14,
     "metadata": {},
     "output_type": "execute_result"
    }
   ],
   "source": [
    "B = np.array(3)\n",
    "B.ndim"
   ]
  },
  {
   "cell_type": "markdown",
   "metadata": {},
   "source": [
    "<a id='np-size'></a>"
   ]
  },
  {
   "cell_type": "markdown",
   "metadata": {},
   "source": [
    "[Índice](#index)\n",
    "\n",
    "### Size\n",
    "\n",
    "Con la función `size` podemos saber el total de elementos dentro del array."
   ]
  },
  {
   "cell_type": "code",
   "execution_count": 15,
   "metadata": {},
   "outputs": [
    {
     "data": {
      "text/plain": [
       "24"
      ]
     },
     "execution_count": 15,
     "metadata": {},
     "output_type": "execute_result"
    }
   ],
   "source": [
    "C = np.array([[[1, 2, 3], [4, 5, 6]], [[-1, -2, -3], [-4, -5, -6]], [[1, 1, 1], [0, 0, 0]], [[1, 1, 1], [0, 0, 0]]])\n",
    "C.size"
   ]
  },
  {
   "cell_type": "markdown",
   "metadata": {},
   "source": [
    "<a id='np-bytes'></a>"
   ]
  },
  {
   "cell_type": "markdown",
   "metadata": {},
   "source": [
    "[Índice](#index)\n",
    "\n",
    "### Bytes\n",
    "\n",
    "Con la función `nbytes` podemos saber el número de bytes que ocupa el array en memoria."
   ]
  },
  {
   "cell_type": "code",
   "execution_count": 16,
   "metadata": {},
   "outputs": [
    {
     "data": {
      "text/plain": [
       "96"
      ]
     },
     "execution_count": 16,
     "metadata": {},
     "output_type": "execute_result"
    }
   ],
   "source": [
    "C.nbytes"
   ]
  },
  {
   "cell_type": "markdown",
   "metadata": {},
   "source": [
    "<a id='np-arange'></a>"
   ]
  },
  {
   "cell_type": "markdown",
   "metadata": {},
   "source": [
    "[Índice](#index)\n",
    "\n",
    "### Arange\n",
    "\n",
    "Con la función `arange` podemos crear arrays que cumplan cierto rango o ciertas condiciones.\n",
    "\n",
    "Es importante decir que esta función no funciona igual a `range(1, 10)` que se puede observar en un `for` loop. Ya que esta función si crea el objeto, no solo itera.\n",
    "\n",
    "Por ejemplo, aquí creamos un array de 100 elementos:"
   ]
  },
  {
   "cell_type": "code",
   "execution_count": 17,
   "metadata": {},
   "outputs": [
    {
     "data": {
      "text/plain": [
       "array([0, 1, 2, 3, 4, 5, 6, 7, 8, 9])"
      ]
     },
     "execution_count": 17,
     "metadata": {},
     "output_type": "execute_result"
    }
   ],
   "source": [
    "A = np.arange(10)\n",
    "A"
   ]
  },
  {
   "cell_type": "markdown",
   "metadata": {},
   "source": [
    "Por otro lado, podemos delimitarle el rango de valores de la siguiente forma:"
   ]
  },
  {
   "cell_type": "code",
   "execution_count": 18,
   "metadata": {},
   "outputs": [
    {
     "data": {
      "text/plain": [
       "array([3, 4, 5, 6, 7, 8, 9])"
      ]
     },
     "execution_count": 18,
     "metadata": {},
     "output_type": "execute_result"
    }
   ],
   "source": [
    "A = np.arange(3, 10)\n",
    "A"
   ]
  },
  {
   "cell_type": "markdown",
   "metadata": {},
   "source": [
    "También es posible establacer el salto que debe de hacer entre un número y otro."
   ]
  },
  {
   "cell_type": "code",
   "execution_count": 19,
   "metadata": {},
   "outputs": [
    {
     "data": {
      "text/plain": [
       "array([3, 6, 9])"
      ]
     },
     "execution_count": 19,
     "metadata": {},
     "output_type": "execute_result"
    }
   ],
   "source": [
    "A = np.arange(3, 10, 3)\n",
    "A"
   ]
  },
  {
   "cell_type": "markdown",
   "metadata": {},
   "source": [
    "<a id='np-linspace'></a>\n",
    "\n",
    "[Índice](#index)"
   ]
  },
  {
   "cell_type": "markdown",
   "metadata": {},
   "source": [
    "### Linspace\n",
    "\n",
    "El equivalente a `arange` pero para ser usado con _floats_"
   ]
  },
  {
   "cell_type": "code",
   "execution_count": 3,
   "metadata": {},
   "outputs": [
    {
     "data": {
      "text/plain": [
       "array([0.        , 0.14285714, 0.28571429, 0.42857143, 0.57142857,\n",
       "       0.71428571, 0.85714286, 1.        , 1.14285714, 1.28571429,\n",
       "       1.42857143, 1.57142857, 1.71428571, 1.85714286, 2.        ])"
      ]
     },
     "execution_count": 3,
     "metadata": {},
     "output_type": "execute_result"
    }
   ],
   "source": [
    "np.linspace(0, 2 ,15)"
   ]
  },
  {
   "cell_type": "markdown",
   "metadata": {},
   "source": [
    "<a id='np-random-permutation'></a>"
   ]
  },
  {
   "cell_type": "markdown",
   "metadata": {},
   "source": [
    "[Índice](#index)\n",
    "\n",
    "### Random permutation\n",
    "\n",
    "La función `random.permutation` permite mezclar aleatoriamente un array."
   ]
  },
  {
   "cell_type": "code",
   "execution_count": 20,
   "metadata": {},
   "outputs": [
    {
     "data": {
      "text/plain": [
       "array([7, 0, 6, 8, 1, 9, 2, 4, 5, 3])"
      ]
     },
     "execution_count": 20,
     "metadata": {},
     "output_type": "execute_result"
    }
   ],
   "source": [
    "A = np.random.permutation(np.arange(10))\n",
    "A"
   ]
  },
  {
   "cell_type": "markdown",
   "metadata": {},
   "source": [
    "<a id='np-random-randint'></a>"
   ]
  },
  {
   "cell_type": "markdown",
   "metadata": {},
   "source": [
    "[Índice](#index)\n",
    "\n",
    "### Random randint\n",
    "\n",
    "La función `random.randint` permite seleccionar un entero aleatorio entre un rango de valores.\n",
    "\n",
    "Retorna un valor entero no un array."
   ]
  },
  {
   "cell_type": "code",
   "execution_count": 21,
   "metadata": {},
   "outputs": [
    {
     "data": {
      "text/plain": [
       "30"
      ]
     },
     "execution_count": 21,
     "metadata": {},
     "output_type": "execute_result"
    }
   ],
   "source": [
    "v = np.random.randint(1, 100)\n",
    "v"
   ]
  },
  {
   "cell_type": "markdown",
   "metadata": {},
   "source": [
    "<a id='np-random-rand'></a>"
   ]
  },
  {
   "cell_type": "markdown",
   "metadata": {},
   "source": [
    "[Índice](#index)\n",
    "\n",
    "### Random rand\n",
    "\n",
    "La función `random.rand` permite crear un array con valores aleatorios entre 0 y 1. \n",
    "Los cuales tienen como característica que siguen una distribución de probabilidad uniforme, entre 0 y 1."
   ]
  },
  {
   "cell_type": "code",
   "execution_count": 22,
   "metadata": {},
   "outputs": [],
   "source": [
    "import matplotlib.pyplot as plt"
   ]
  },
  {
   "cell_type": "code",
   "execution_count": 23,
   "metadata": {},
   "outputs": [
    {
     "data": {
      "text/plain": [
       "(array([116., 107.,  88.,  82.,  98.,  86., 102., 115.,  96., 110.]),\n",
       " array([2.46546346e-04, 1.00207204e-01, 2.00167861e-01, 3.00128519e-01,\n",
       "        4.00089176e-01, 5.00049834e-01, 6.00010491e-01, 6.99971149e-01,\n",
       "        7.99931806e-01, 8.99892463e-01, 9.99853121e-01]),\n",
       " <a list of 10 Patch objects>)"
      ]
     },
     "execution_count": 23,
     "metadata": {},
     "output_type": "execute_result"
    },
    {
     "data": {
      "image/png": "[encoded data removed]",
      "text/plain": [
       "<Figure size 432x288 with 1 Axes>"
      ]
     },
     "metadata": {
      "needs_background": "light"
     },
     "output_type": "display_data"
    }
   ],
   "source": [
    "A = np.random.rand(1000)\n",
    "plt.hist(A)"
   ]
  },
  {
   "cell_type": "markdown",
   "metadata": {},
   "source": [
    "<a id='np-random-randn'></a>"
   ]
  },
  {
   "cell_type": "markdown",
   "metadata": {},
   "source": [
    "[Índice](#index)\n",
    "\n",
    "### Random randn\n",
    "\n",
    "La función `random.rand` permite crear un array con valores aleatorios, los cuales tienen como característica que siguen una distribución de probabilidad normal estándar."
   ]
  },
  {
   "cell_type": "code",
   "execution_count": 24,
   "metadata": {},
   "outputs": [
    {
     "data": {
      "text/plain": [
       "(array([  4.,  15.,  71., 178., 231., 251., 165.,  65.,  15.,   5.]),\n",
       " array([-3.27123514, -2.61846968, -1.96570422, -1.31293876, -0.66017331,\n",
       "        -0.00740785,  0.64535761,  1.29812307,  1.95088853,  2.60365399,\n",
       "         3.25641945]),\n",
       " <a list of 10 Patch objects>)"
      ]
     },
     "execution_count": 24,
     "metadata": {},
     "output_type": "execute_result"
    },
    {
     "data": {
      "image/png": "[encoded data removed]",
      "text/plain": [
       "<Figure size 432x288 with 1 Axes>"
      ]
     },
     "metadata": {
      "needs_background": "light"
     },
     "output_type": "display_data"
    }
   ],
   "source": [
    "B = np.random.randn(1000)\n",
    "plt.hist(B)"
   ]
  },
  {
   "cell_type": "markdown",
   "metadata": {},
   "source": [
    "Estas funciones aleatorias pueden usarse para crear arrays de n dimensiones, pasándole el número de elementos en cada dimensión."
   ]
  },
  {
   "cell_type": "code",
   "execution_count": 25,
   "metadata": {},
   "outputs": [
    {
     "data": {
      "text/plain": [
       "array([[0.05822743, 0.3861604 , 0.63378249],\n",
       "       [0.7131968 , 0.81809041, 0.90845007]])"
      ]
     },
     "execution_count": 25,
     "metadata": {},
     "output_type": "execute_result"
    }
   ],
   "source": [
    "C = np.random.rand(2, 3)\n",
    "C"
   ]
  },
  {
   "cell_type": "code",
   "execution_count": 26,
   "metadata": {},
   "outputs": [
    {
     "data": {
      "text/plain": [
       "array([[[[-0.48973241, -2.78706058,  0.85382723],\n",
       "         [-2.10704311,  0.61768015, -1.18757241]],\n",
       "\n",
       "        [[-0.74334023,  0.14066865,  0.24065681],\n",
       "         [ 0.09231315, -0.02920882, -0.05351786]]],\n",
       "\n",
       "\n",
       "       [[[-0.38902409, -0.02508786, -1.91586387],\n",
       "         [-1.10407865,  0.21790889,  0.5426163 ]],\n",
       "\n",
       "        [[ 1.7676643 , -0.25778553,  0.89324828],\n",
       "         [ 0.96520173,  0.86011741,  0.32666716]]]])"
      ]
     },
     "execution_count": 26,
     "metadata": {},
     "output_type": "execute_result"
    }
   ],
   "source": [
    "C = np.random.randn(2, 2, 2, 3)\n",
    "C"
   ]
  },
  {
   "cell_type": "markdown",
   "metadata": {},
   "source": [
    "<a id='np-reshape'></a>"
   ]
  },
  {
   "cell_type": "markdown",
   "metadata": {},
   "source": [
    "[Índice](#index)\n",
    "\n",
    "### Reshape\n",
    "\n",
    "La función `reshape` permite re acomodar un array en las dimensiones dadas por parámetro.\n",
    "\n",
    "Se debe ser cuidadoso con el número de elementos en cada una de las dimensiones ya que si, por ejemplo, un 1d array de tamaño 10 al cual se le hace `.reshape(3,3)` nos dará error. Esto debido a que no podemos acomodar 10 valores en solo 9 casillas.\n",
    "\n",
    "En pocas palabras, el `.size` del array debe ser múltiplo del producto de los números de elementos en cada dimensión del _reshape_.\n",
    "Ej: Array de tamaño 50, `.reshape(5, 10)` es posible ya que:\n",
    "\n",
    "$ size = \\prod_{i=1}^{n} elementos_i $\n",
    "\n",
    "$ 50 = 5 \\cdot 10 $\n",
    "\n",
    "$ 50 = 50 $\n",
    "\n",
    "$ \\top = \\top $\n"
   ]
  },
  {
   "cell_type": "code",
   "execution_count": 27,
   "metadata": {},
   "outputs": [
    {
     "data": {
      "text/plain": [
       "array([ 0,  1,  2,  3,  4,  5,  6,  7,  8,  9, 10, 11, 12, 13, 14, 15, 16,\n",
       "       17, 18, 19, 20, 21, 22, 23, 24, 25, 26, 27, 28, 29, 30, 31, 32, 33,\n",
       "       34, 35, 36, 37, 38, 39, 40, 41, 42, 43, 44, 45, 46, 47, 48, 49])"
      ]
     },
     "execution_count": 27,
     "metadata": {},
     "output_type": "execute_result"
    }
   ],
   "source": [
    "D = np.arange(50)\n",
    "D"
   ]
  },
  {
   "cell_type": "code",
   "execution_count": 28,
   "metadata": {},
   "outputs": [
    {
     "data": {
      "text/plain": [
       "array([[ 0,  1,  2,  3,  4,  5,  6,  7,  8,  9],\n",
       "       [10, 11, 12, 13, 14, 15, 16, 17, 18, 19],\n",
       "       [20, 21, 22, 23, 24, 25, 26, 27, 28, 29],\n",
       "       [30, 31, 32, 33, 34, 35, 36, 37, 38, 39],\n",
       "       [40, 41, 42, 43, 44, 45, 46, 47, 48, 49]])"
      ]
     },
     "execution_count": 28,
     "metadata": {},
     "output_type": "execute_result"
    }
   ],
   "source": [
    "D = np.arange(50).reshape(5, 10)\n",
    "D"
   ]
  },
  {
   "cell_type": "code",
   "execution_count": 29,
   "metadata": {},
   "outputs": [
    {
     "data": {
      "text/plain": [
       "(5, 10)"
      ]
     },
     "execution_count": 29,
     "metadata": {},
     "output_type": "execute_result"
    }
   ],
   "source": [
    "D.shape"
   ]
  },
  {
   "cell_type": "markdown",
   "metadata": {},
   "source": [
    "<a id='np-zeros'></a>"
   ]
  },
  {
   "cell_type": "markdown",
   "metadata": {},
   "source": [
    "[Índice](#index)\n",
    "\n",
    "### Zeros and Ones\n",
    "\n",
    "Las funciones `zeros` y `ones` permite crear un array cuyos valores son 0 o 1.\n",
    "Recibe de parámetro una forma `shape` y de ser necesario el `dtype`, por defecto el _dtype_ es _float_."
   ]
  },
  {
   "cell_type": "code",
   "execution_count": 30,
   "metadata": {},
   "outputs": [
    {
     "name": "stdout",
     "output_type": "stream",
     "text": [
      "[[0 0 0]\n",
      " [0 0 0]]\n",
      "[[1. 1. 1.]\n",
      " [1. 1. 1.]]\n"
     ]
    }
   ],
   "source": [
    "A = np.zeros((2,3), dtype='i')\n",
    "B = np.ones((2,3)) \n",
    "print(A)\n",
    "print(B)"
   ]
  },
  {
   "cell_type": "markdown",
   "metadata": {},
   "source": [
    "<a id='np-full'></a>\n",
    "\n",
    "[Índice](#index)"
   ]
  },
  {
   "cell_type": "markdown",
   "metadata": {},
   "source": [
    "### Full\n",
    "\n",
    "Podemos usar `full` para llenar un array de la dimensión indicada con el valor que queramos.\n",
    "\n",
    "Es el equivalente a `zeros` and `ones` pero con cualquier valor."
   ]
  },
  {
   "cell_type": "code",
   "execution_count": 16,
   "metadata": {},
   "outputs": [
    {
     "data": {
      "text/plain": [
       "array([[20, 20, 20],\n",
       "       [20, 20, 20]])"
      ]
     },
     "execution_count": 16,
     "metadata": {},
     "output_type": "execute_result"
    }
   ],
   "source": [
    "# Creamos el array de ejemplo\n",
    "np.full((2, 3), 20)"
   ]
  },
  {
   "cell_type": "markdown",
   "metadata": {},
   "source": [
    "<a id='np-argwhere'></a>"
   ]
  },
  {
   "cell_type": "markdown",
   "metadata": {},
   "source": [
    "[Índice](#index)\n",
    "\n",
    "### Argwhere\n",
    "\n",
    "Por medio de la función `np.argwhere` el cual recibe como parámetro el array y el parámetro a buscar la posición."
   ]
  },
  {
   "cell_type": "code",
   "execution_count": 31,
   "metadata": {},
   "outputs": [
    {
     "data": {
      "text/plain": [
       "array([17, 99,  2, 75, 33, 89, 22, 47, 29, 45, 62, 84,  7, 49, 60, 83,  6,\n",
       "       91, 93, 86, 85, 95, 76, 42, 87, 55, 25, 38, 28, 54, 65, 52, 11, 88,\n",
       "       40, 53, 61, 63, 77, 56, 82, 16,  4, 74,  9, 12, 14,  1, 92, 43, 96,\n",
       "       70, 81, 64, 59, 46, 27, 41, 37, 21, 67, 10, 19,  8,  5, 94, 50, 51,\n",
       "       26, 48, 80, 31, 66, 79, 44, 68, 57,  3, 78, 90, 72, 24, 34, 58, 30,\n",
       "       97, 36, 23, 20, 39, 69, 18, 73, 35, 13, 71, 32, 98, 15])"
      ]
     },
     "execution_count": 31,
     "metadata": {},
     "output_type": "execute_result"
    }
   ],
   "source": [
    "# Creamos el array de ejemplo\n",
    "A = np.random.permutation(np.arange(1, 100))\n",
    "A"
   ]
  },
  {
   "cell_type": "code",
   "execution_count": 32,
   "metadata": {},
   "outputs": [
    {
     "data": {
      "text/plain": [
       "array([[38]], dtype=int64)"
      ]
     },
     "execution_count": 32,
     "metadata": {},
     "output_type": "execute_result"
    }
   ],
   "source": [
    "# guardamos la posición en que se encuentra el número 77\n",
    "idx = np.argwhere(A==77)\n",
    "idx"
   ]
  },
  {
   "cell_type": "code",
   "execution_count": 33,
   "metadata": {},
   "outputs": [
    {
     "data": {
      "text/plain": [
       "array([[ 2],\n",
       "       [63]], dtype=int64)"
      ]
     },
     "execution_count": 33,
     "metadata": {},
     "output_type": "execute_result"
    }
   ],
   "source": [
    "# también es posible re-editar un array\n",
    "A[2] = 8\n",
    "# Queremos ver si es posible hallar la posición de elementos repetidos\n",
    "idx = np.argwhere(A==8)\n",
    "idx"
   ]
  },
  {
   "cell_type": "markdown",
   "metadata": {},
   "source": [
    "<a id='np-slicing'></a>"
   ]
  },
  {
   "cell_type": "markdown",
   "metadata": {},
   "source": [
    "[Índice](#index)\n",
    "\n",
    "### Slicing\n",
    "\n",
    "Por medio de los `[]` podemos acceder a subarrays o a elementos en particular. Podemos acceder a toda una fila, a toda una columna o a una sub matriz."
   ]
  },
  {
   "cell_type": "code",
   "execution_count": 34,
   "metadata": {},
   "outputs": [
    {
     "data": {
      "text/plain": [
       "array([[5., 5., 9., 2.],\n",
       "       [9., 8., 0., 8.],\n",
       "       [8., 3., 3., 2.],\n",
       "       [3., 0., 2., 2.],\n",
       "       [8., 6., 8., 8.]])"
      ]
     },
     "execution_count": 34,
     "metadata": {},
     "output_type": "execute_result"
    }
   ],
   "source": [
    "A = np.round(10*np.random.rand(5, 4))\n",
    "A"
   ]
  },
  {
   "cell_type": "code",
   "execution_count": 35,
   "metadata": {},
   "outputs": [
    {
     "data": {
      "text/plain": [
       "0.0"
      ]
     },
     "execution_count": 35,
     "metadata": {},
     "output_type": "execute_result"
    }
   ],
   "source": [
    "A[1, 2]"
   ]
  },
  {
   "cell_type": "code",
   "execution_count": 36,
   "metadata": {},
   "outputs": [
    {
     "data": {
      "text/plain": [
       "array([9., 8., 0., 8.])"
      ]
     },
     "execution_count": 36,
     "metadata": {},
     "output_type": "execute_result"
    }
   ],
   "source": [
    "A[1, :]"
   ]
  },
  {
   "cell_type": "code",
   "execution_count": 37,
   "metadata": {},
   "outputs": [
    {
     "data": {
      "text/plain": [
       "array([5., 8., 3., 0., 6.])"
      ]
     },
     "execution_count": 37,
     "metadata": {},
     "output_type": "execute_result"
    }
   ],
   "source": [
    "A[:, 1]"
   ]
  },
  {
   "cell_type": "code",
   "execution_count": 38,
   "metadata": {},
   "outputs": [
    {
     "data": {
      "text/plain": [
       "array([[0., 8.],\n",
       "       [3., 2.]])"
      ]
     },
     "execution_count": 38,
     "metadata": {},
     "output_type": "execute_result"
    }
   ],
   "source": [
    "A[1:3, 2:]"
   ]
  },
  {
   "cell_type": "code",
   "execution_count": 39,
   "metadata": {},
   "outputs": [
    {
     "data": {
      "text/plain": [
       "array([0.30249675, 0.12721514, 0.25211939, 0.03692045, 0.04173979,\n",
       "       0.78351819, 0.21642687, 0.00715557, 0.88152953, 0.11670546])"
      ]
     },
     "execution_count": 39,
     "metadata": {},
     "output_type": "execute_result"
    }
   ],
   "source": [
    "# --------\n",
    "A = np.random.rand(10)\n",
    "A"
   ]
  },
  {
   "cell_type": "code",
   "execution_count": 40,
   "metadata": {},
   "outputs": [
    {
     "data": {
      "text/plain": [
       "array([0.03692045, 0.78351819, 0.21642687])"
      ]
     },
     "execution_count": 40,
     "metadata": {},
     "output_type": "execute_result"
    }
   ],
   "source": [
    "# Podemos acceder a posiciones en particular del array, y crear un subarray de este\n",
    "# Este subarray crea una copia, no una visualización del array original, es decir, A != B\n",
    "B = A[[3, 5, 6]]\n",
    "B"
   ]
  },
  {
   "cell_type": "code",
   "execution_count": 41,
   "metadata": {},
   "outputs": [
    {
     "data": {
      "text/plain": [
       "array([-4.        ,  0.78351819,  0.21642687])"
      ]
     },
     "execution_count": 41,
     "metadata": {},
     "output_type": "execute_result"
    }
   ],
   "source": [
    "B[0] = -4\n",
    "B"
   ]
  },
  {
   "cell_type": "code",
   "execution_count": 42,
   "metadata": {},
   "outputs": [
    {
     "data": {
      "text/plain": [
       "array([0.30249675, 0.12721514, 0.25211939, 0.03692045, 0.04173979,\n",
       "       0.78351819, 0.21642687, 0.00715557, 0.88152953, 0.11670546])"
      ]
     },
     "execution_count": 42,
     "metadata": {},
     "output_type": "execute_result"
    }
   ],
   "source": [
    "A"
   ]
  },
  {
   "cell_type": "markdown",
   "metadata": {},
   "source": [
    "<a id='np-lin-alg'></a>"
   ]
  },
  {
   "cell_type": "markdown",
   "metadata": {},
   "source": [
    "[Índice](#index)\n",
    "\n",
    "### Linear algebra\n",
    "\n",
    "Por medio de `numpy` podemos acceder a una librería la cual nos permite trabajar funciones de álgebra lineal como determinante, inversa de una matriz, etc.\n",
    "\n",
    "Accedemos a esta por medio de `numpy.linalg`."
   ]
  },
  {
   "cell_type": "code",
   "execution_count": 43,
   "metadata": {},
   "outputs": [],
   "source": [
    "import numpy.linalg as la"
   ]
  },
  {
   "cell_type": "code",
   "execution_count": 44,
   "metadata": {},
   "outputs": [
    {
     "name": "stdout",
     "output_type": "stream",
     "text": [
      "[[0.39484252 0.80040003 0.49243121]\n",
      " [0.33417776 0.66415401 0.35799303]\n",
      " [0.21463476 0.61474155 0.92293081]]\n"
     ]
    },
    {
     "data": {
      "text/plain": [
       "array([[ 533.74166978, -592.29358357,  -55.03563681],\n",
       "       [-314.60484651,  351.46631697,   31.52864231],\n",
       "       [  85.42477449,  -96.36059056,   -7.11798298]])"
      ]
     },
     "execution_count": 44,
     "metadata": {},
     "output_type": "execute_result"
    }
   ],
   "source": [
    "P = np.random.rand(3, 3)\n",
    "print(P)\n",
    "la.inv(P)"
   ]
  },
  {
   "cell_type": "markdown",
   "metadata": {},
   "source": [
    "<a id='np-sort'></a>"
   ]
  },
  {
   "cell_type": "markdown",
   "metadata": {},
   "source": [
    "[Índice](#index)\n",
    "\n",
    "### Sort\n",
    "\n",
    "Por medio de la función `sort` de la librería podemos ordenar un array ya sea por filas o por columnas.\n",
    "\n",
    "Esta función recibe el parámetro `axis=` que se le asigna el valor:\n",
    "- 0 - Si queremos ordenar ascendentemente por columnas\n",
    "- 1 - Si queremos ordenar ascendentemente por filas"
   ]
  },
  {
   "cell_type": "code",
   "execution_count": 45,
   "metadata": {},
   "outputs": [
    {
     "data": {
      "text/plain": [
       "array([[ 3.,  0.,  2.,  8.],\n",
       "       [ 7.,  4.,  3.,  8.],\n",
       "       [ 7.,  6.,  3.,  9.],\n",
       "       [ 8.,  9.,  5., 10.],\n",
       "       [ 9., 10.,  6., 10.]])"
      ]
     },
     "execution_count": 45,
     "metadata": {},
     "output_type": "execute_result"
    }
   ],
   "source": [
    "A = np.round(10*np.random.rand(5, 4))\n",
    "A.sort(axis=0)\n",
    "A"
   ]
  },
  {
   "cell_type": "code",
   "execution_count": 46,
   "metadata": {},
   "outputs": [
    {
     "data": {
      "text/plain": [
       "array([[1., 1., 1., 7.],\n",
       "       [1., 4., 6., 9.],\n",
       "       [2., 3., 5., 7.],\n",
       "       [3., 6., 7., 9.],\n",
       "       [0., 5., 6., 6.]])"
      ]
     },
     "execution_count": 46,
     "metadata": {},
     "output_type": "execute_result"
    }
   ],
   "source": [
    "A = np.round(10*np.random.rand(5, 4))\n",
    "A.sort(axis=1)\n",
    "A"
   ]
  },
  {
   "cell_type": "code",
   "execution_count": 47,
   "metadata": {},
   "outputs": [
    {
     "data": {
      "text/plain": [
       "array([0, 1, 2, 3, 4, 5, 6, 7, 8, 9])"
      ]
     },
     "execution_count": 47,
     "metadata": {},
     "output_type": "execute_result"
    }
   ],
   "source": [
    "A = np.arange(10)\n",
    "A"
   ]
  },
  {
   "cell_type": "code",
   "execution_count": 48,
   "metadata": {},
   "outputs": [
    {
     "data": {
      "text/plain": [
       "array([9, 8, 7, 6, 5, 4, 3, 2, 1, 0])"
      ]
     },
     "execution_count": 48,
     "metadata": {},
     "output_type": "execute_result"
    }
   ],
   "source": [
    "A[::-1]\n"
   ]
  },
  {
   "cell_type": "markdown",
   "metadata": {},
   "source": [
    "<a id='np-conditions'></a>"
   ]
  },
  {
   "cell_type": "markdown",
   "metadata": {},
   "source": [
    "[Índice](#index)\n",
    "\n",
    "### Condiciones\n",
    "\n",
    "Podemos seleccionar subarrays que cumpla con ciertas condiciones de un array grande sin importar el número de dimensiones, este subarray será de 1 dimensión\n",
    "\n",
    "Esto funciona primero creando un array de _booleans_ donde comprueba si el elemento cumple con las condiciones, retornando un array de la misma _shape_ del array pero con los valores $ True $ o $ False $. Esto si solo usamos `A<20`.\n",
    "\n",
    "Pero si queremos retornar el subarray que cumpla con los condiciones lo que hará _numpy_ es comparar valor por valor el array con el array de _booleans_ y aquellos que coincidan con `True` serán los que retornará el subarray. Para esto usamos `A[A<20]`.\n",
    "\n",
    "Para usar condiciones en los arrays no podemos hacer uso de los `and, or, not` típicos de python.\n",
    "\n",
    "Sino que debemos usar:\n",
    "- `&: and`\n",
    "- `|: or`\n",
    "- `~: not`"
   ]
  },
  {
   "cell_type": "code",
   "execution_count": 49,
   "metadata": {},
   "outputs": [
    {
     "data": {
      "text/plain": [
       "array([ 0,  1,  2,  3,  4,  5,  6,  7,  8,  9, 10, 11, 12, 13, 14, 15, 16,\n",
       "       17, 18, 19])"
      ]
     },
     "execution_count": 49,
     "metadata": {},
     "output_type": "execute_result"
    }
   ],
   "source": [
    "A = np.arange(20)\n",
    "A"
   ]
  },
  {
   "cell_type": "code",
   "execution_count": 50,
   "metadata": {},
   "outputs": [
    {
     "data": {
      "text/plain": [
       "array([ True,  True,  True,  True,  True,  True,  True,  True,  True,\n",
       "        True, False, False, False, False, False, False, False, False,\n",
       "       False, False])"
      ]
     },
     "execution_count": 50,
     "metadata": {},
     "output_type": "execute_result"
    }
   ],
   "source": [
    "A<10"
   ]
  },
  {
   "cell_type": "code",
   "execution_count": 51,
   "metadata": {},
   "outputs": [
    {
     "data": {
      "text/plain": [
       "array([0, 1, 2, 3, 4, 5, 6, 7, 8, 9])"
      ]
     },
     "execution_count": 51,
     "metadata": {},
     "output_type": "execute_result"
    }
   ],
   "source": [
    "B = A[A<10]\n",
    "B"
   ]
  },
  {
   "cell_type": "code",
   "execution_count": 52,
   "metadata": {},
   "outputs": [
    {
     "data": {
      "text/plain": [
       "array([ 8,  9, 10, 11, 12, 13])"
      ]
     },
     "execution_count": 52,
     "metadata": {},
     "output_type": "execute_result"
    }
   ],
   "source": [
    "B = A[(A<14) & (A>7)]\n",
    "B"
   ]
  },
  {
   "cell_type": "code",
   "execution_count": 53,
   "metadata": {},
   "outputs": [
    {
     "data": {
      "text/plain": [
       "array([ 0,  1,  2,  3,  4,  5,  6, 15, 16, 17, 18, 19])"
      ]
     },
     "execution_count": 53,
     "metadata": {},
     "output_type": "execute_result"
    }
   ],
   "source": [
    "B = A[(A<7) | (A>14)]\n",
    "B"
   ]
  },
  {
   "cell_type": "code",
   "execution_count": 54,
   "metadata": {},
   "outputs": [
    {
     "data": {
      "text/plain": [
       "array([ 5,  6,  7,  8,  9, 10])"
      ]
     },
     "execution_count": 54,
     "metadata": {},
     "output_type": "execute_result"
    }
   ],
   "source": [
    "B = A[~(A<5) & ~(A>10)]\n",
    "B"
   ]
  },
  {
   "cell_type": "markdown",
   "metadata": {},
   "source": [
    "<a id='np-efficiency'></a>"
   ]
  },
  {
   "cell_type": "markdown",
   "metadata": {},
   "source": [
    "[Índice](#index)\n",
    "\n",
    "### Absurd efficiency\n",
    "\n",
    "Comparemos cuanto tiempo toma realizar una suma de un array considerablemente grande, por medio de dos maneras. La primera usa la función universal de _Python_ `sum()` y la segunda forma usa la función específica de _Numpy_ `np.sum()`."
   ]
  },
  {
   "cell_type": "code",
   "execution_count": 55,
   "metadata": {},
   "outputs": [
    {
     "name": "stdout",
     "output_type": "stream",
     "text": [
      "186 ms ± 60 ms per loop (mean ± std. dev. of 7 runs, 1 loop each)\n",
      "1.3 ms ± 77 µs per loop (mean ± std. dev. of 7 runs, 1000 loops each)\n"
     ]
    }
   ],
   "source": [
    "B = np.random.rand(1000000)\n",
    "%timeit sum(B)\n",
    "%timeit np.sum(B)"
   ]
  },
  {
   "cell_type": "markdown",
   "metadata": {},
   "source": [
    "<a id='np-efficiency'></a>\n",
    "[Índice](#index)\n"
   ]
  },
  {
   "cell_type": "markdown",
   "metadata": {},
   "source": [
    "### Matrix Multiplication\n",
    "\n",
    "Para multiplicar todos los elementos de un array se usa `*`.\n",
    "\n",
    "Sin embargo, si se desea realizar multiplicación de matrices se usa `@`."
   ]
  },
  {
   "cell_type": "code",
   "execution_count": 6,
   "metadata": {},
   "outputs": [
    {
     "data": {
      "text/plain": [
       "array([ 2, 12, 30, 56, 90])"
      ]
     },
     "execution_count": 6,
     "metadata": {},
     "output_type": "execute_result"
    }
   ],
   "source": [
    "A = np.arange(1, 10, 2)\n",
    "B = np.arange(2, 11, 2)\n",
    "A*B"
   ]
  },
  {
   "cell_type": "code",
   "execution_count": 11,
   "metadata": {},
   "outputs": [
    {
     "data": {
      "text/plain": [
       "(array([[0.12437731, 0.60741283, 0.1882809 ],\n",
       "        [0.5869884 , 0.90231658, 0.87270681]]),\n",
       " array([[0.2952602 , 0.26192821],\n",
       "        [0.88081374, 0.35342618],\n",
       "        [0.47026073, 0.29110523]]),\n",
       " array([[0.66028235, 0.30206308],\n",
       "        [1.37848689, 0.72670064]]))"
      ]
     },
     "execution_count": 11,
     "metadata": {},
     "output_type": "execute_result"
    }
   ],
   "source": [
    "A = np.random.rand(2, 3)\n",
    "B = np.random.rand(3, 2)\n",
    "A, B, A@B"
   ]
  },
  {
   "cell_type": "markdown",
   "metadata": {},
   "source": [
    "<a id='np-ctm'></a>\n",
    "[Índice](#index)\n"
   ]
  },
  {
   "cell_type": "markdown",
   "metadata": {},
   "source": [
    "### Aggregation functions\n",
    "\n",
    "Existen funciones en _NumPy_ que permiten obtener medidas de tendencia central de los arrays."
   ]
  },
  {
   "cell_type": "code",
   "execution_count": 13,
   "metadata": {},
   "outputs": [
    {
     "data": {
      "text/plain": [
       "(array([1, 3, 5, 7, 9]), array([ 2,  4,  6,  8, 10]))"
      ]
     },
     "execution_count": 13,
     "metadata": {},
     "output_type": "execute_result"
    }
   ],
   "source": [
    "A = np.arange(1, 10, 2)\n",
    "A, B"
   ]
  },
  {
   "cell_type": "code",
   "execution_count": 14,
   "metadata": {},
   "outputs": [
    {
     "data": {
      "text/plain": [
       "(25, 9, 1, 5.0, 2.8284271247461903, 8.0)"
      ]
     },
     "execution_count": 14,
     "metadata": {},
     "output_type": "execute_result"
    }
   ],
   "source": [
    "A.sum(), A.max(), A.min(), A.mean(), A.std(), A.var()"
   ]
  }
 ],
 "metadata": {
  "kernelspec": {
   "display_name": "Python 3.10.5 64-bit (system)",
   "language": "python",
   "name": "python3"
  },
  "language_info": {
   "codemirror_mode": {
    "name": "ipython",
    "version": 3
   },
   "file_extension": ".py",
   "mimetype": "text/x-python",
   "name": "python",
   "nbconvert_exporter": "python",
   "pygments_lexer": "ipython3",
   "version": "3.10.5"
  },
  "vscode": {
   "interpreter": {
    "hash": "b50ed6ac63a8ec1bd52de7044bf180293ce2cc06f07684af7b8f6a1d7629c741"
   }
  }
 },
 "nbformat": 4,
 "nbformat_minor": 2
}
